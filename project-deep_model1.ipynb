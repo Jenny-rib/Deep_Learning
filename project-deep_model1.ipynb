{
 "cells": [
  {
   "cell_type": "code",
   "execution_count": 1,
   "metadata": {},
   "outputs": [
    {
     "name": "stdout",
     "output_type": "stream",
     "text": [
      "块 1:\n",
      "The future of \n",
      "sustainability\n",
      "Navigating trends \n",
      "and innovations for \n",
      "a sustainable tomorrow\n",
      "FEBRUARY 2025 | MICHAEL HANF, LEAD SUSTAINABLE BUSINESS, VTT\n",
      "----------------------------------------\n",
      "\n",
      "块 2:\n",
      "Michael Hanf (2025), The future of sustainability - Navigating \n",
      "trends and innovations for a sustainable tomorrow, \n",
      "VTT Technical Research Centre of Finland, Espoo, Finland.\n",
      "Author: Michael Hanf\n",
      "Contributors: Maria Akerman, Sajad Ashouri, Arash Hajikhani, \n",
      "Kalle Kantola, Tiina Koljonen, Sofi Kurki, Annu Markkula, \n",
      "Maaria Nuutinen, Hanna Pihkola, Antti-Jussi Tahvanainen, \n",
      "Nina Wessberg\n",
      "For enquiries, please contact the author, Michael Hanf, \n",
      "at michael.hanf@vtt.fi\n",
      "© VTT Technical Research Centre of Finland, 2025\n",
      "----------------------------------------\n",
      "\n",
      "块 3:\n",
      "The future of sustainability: \n",
      "Navigating trends and innovations  \n",
      "for a sustainable tomorrow\n",
      "0/ Executive summary  . . . . . . . . . . . . . . . . . . . . . . . 5\n",
      "Methodology & approach . . . . . . . . . . . . . . . . . . . . . . . . . . . . . . . . . . . . 5\n",
      "The perfect storm  . . . . . . . . . . . . . . . . . . . . . . . . . . . . . . . . . . . . . . . . . . 5\n",
      "Key findings & strategic recommendations . . . . . . . . . . . . . . . . . . . . . 6\n",
      "1/ Introduction . . . . . . . . . . . . . . . . . . . . . . . . . . . . . . 7\n",
      "Purpose and scope . . . . . . . . . . . . . . . . . . . . . . . . . . . . . . . . . . . . . . . . . 7\n",
      "Methodology   . . . . . . . . . . . . . . . . . . . . . . . . . . . . . . . . . . . . . . . . . . . . . 8\n",
      "Structure of the report  . . . . . . . . . . . . . . . . . . . . . . . . . . . . . . . . . . . . . . 9\n",
      "2/ The big picture: The future of sustainability . . . 11\n",
      "3/ The perfect storm  . . . . . . . . . . . . . . . . . . . . . . . . 14\n",
      "----------------------------------------\n",
      "\n"
     ]
    }
   ],
   "source": [
    "from langchain_community.document_loaders import PyPDFLoader\n",
    "from langchain_text_splitters import RecursiveCharacterTextSplitter\n",
    "\n",
    "# 加载PDF文件（请确保文件路径正确）\n",
    "loader = PyPDFLoader(\"WHITEPAPER_Future_of_Sustainability_2025.pdf\")\n",
    "docs = loader.load()\n",
    "\n",
    "# 使用文本切分器进行切分\n",
    "text_splitter = RecursiveCharacterTextSplitter(chunk_size=1000, chunk_overlap=200)\n",
    "chunks = text_splitter.split_documents(docs)\n",
    "\n",
    "# 提取每个块的文本内容\n",
    "text_lines = [chunk.page_content for chunk in chunks]\n",
    "\n",
    "# 打印前几个文本块以验证结果\n",
    "for i, text in enumerate(text_lines[:3]):\n",
    "    print(f\"块 {i+1}:\\n{text}\\n{'-'*40}\\n\")\n",
    "\n"
   ]
  },
  {
   "cell_type": "code",
   "execution_count": 2,
   "metadata": {},
   "outputs": [
    {
     "name": "stdout",
     "output_type": "stream",
     "text": [
      "嵌入的形状: (387, 384)\n",
      "第一条嵌入示例: [ 0.02845221  0.02056801  0.05199016 -0.03178968  0.04272494  0.01241189\n",
      " -0.10353621 -0.0057232  -0.05912128  0.01031158]\n"
     ]
    }
   ],
   "source": [
    "from sentence_transformers import SentenceTransformer\n",
    "import numpy as np\n",
    "\n",
    "# 加载预训练的嵌入模型\n",
    "embedding_model = SentenceTransformer(\"all-MiniLM-L6-v2\")\n",
    "\n",
    "# 为每个文本块生成嵌入\n",
    "embeddings = embedding_model.encode(text_lines)\n",
    "\n",
    "# 检查生成的嵌入维度和部分结果\n",
    "print(\"嵌入的形状:\", np.array(embeddings).shape)\n",
    "print(\"第一条嵌入示例:\", embeddings[0][:10])  # 打印第一条嵌入的前10个数值\n",
    "\n"
   ]
  },
  {
   "cell_type": "code",
   "execution_count": 3,
   "metadata": {},
   "outputs": [
    {
     "name": "stdout",
     "output_type": "stream",
     "text": [
      "成功连接到 Milvus!\n"
     ]
    }
   ],
   "source": [
    "from pymilvus import connections\n",
    "\n",
    "connections.connect(host=\"localhost\", port=\"19530\")\n",
    "print(\"成功连接到 Milvus!\")\n"
   ]
  },
  {
   "cell_type": "code",
   "execution_count": 4,
   "metadata": {},
   "outputs": [
    {
     "name": "stdout",
     "output_type": "stream",
     "text": [
      "⚠️ 旧集合 rag_collection 已删除\n",
      "✅ 创建集合 rag_collection 成功\n"
     ]
    }
   ],
   "source": [
    "from sentence_transformers import SentenceTransformer\n",
    "from pymilvus import MilvusClient\n",
    "import numpy as np\n",
    "\n",
    "# 1. 加载轻量级高性能嵌入模型\n",
    "embedding_model = SentenceTransformer(\"intfloat/e5-small-v2\")  # 非常适合本地 CPU 环境\n",
    "\n",
    "# 2. 定义嵌入函数（注意加前缀 \"passage:\"，这是 e5 模型推荐用法）\n",
    "def emb_text(text):\n",
    "    return embedding_model.encode([f\"passage: {text}\"])[0]\n",
    "\n",
    "# 3. 连接 Milvus\n",
    "milvus_client = MilvusClient(uri=\"http://localhost:19530\")\n",
    "collection_name = \"rag_collection\"\n",
    "\n",
    "# 4. 删除旧集合（如果存在）\n",
    "if collection_name in milvus_client.list_collections():\n",
    "    milvus_client.drop_collection(collection_name)\n",
    "    print(f\"⚠️ 旧集合 {collection_name} 已删除\")\n",
    "\n",
    "# 5. 创建新集合（e5-small-v2 是 384维）\n",
    "milvus_client.create_collection(\n",
    "    collection_name=collection_name,\n",
    "    dimension=384,\n",
    "    metric_type=\"IP\",\n",
    "    consistency_level=\"Strong\"\n",
    ")\n",
    "print(f\"✅ 创建集合 {collection_name} 成功\")\n",
    "\n"
   ]
  },
  {
   "cell_type": "code",
   "execution_count": 5,
   "metadata": {},
   "outputs": [
    {
     "name": "stderr",
     "output_type": "stream",
     "text": [
      "⏳ 生成嵌入: 100%|██████████| 387/387 [04:16<00:00,  1.51it/s]\n"
     ]
    },
    {
     "name": "stdout",
     "output_type": "stream",
     "text": [
      "✅ 向量插入完成，共 387 条\n"
     ]
    }
   ],
   "source": [
    "# 6. 生成新嵌入（推荐带进度条）\n",
    "from tqdm import tqdm\n",
    "data = []\n",
    "for i, line in enumerate(tqdm(text_lines, desc=\"⏳ 生成嵌入\")):\n",
    "    vector = emb_text(line)\n",
    "    data.append({\"id\": i, \"vector\": vector, \"text\": line})\n",
    "\n",
    "# 7. 插入向量数据\n",
    "milvus_client.insert(collection_name=collection_name, data=data)\n",
    "print(f\"✅ 向量插入完成，共 {len(data)} 条\")\n"
   ]
  },
  {
   "cell_type": "code",
   "execution_count": 16,
   "metadata": {},
   "outputs": [],
   "source": [
    "# 8. 检索函数（top_k 可调）\n",
    "def retrieve_context(query, top_k=15):\n",
    "    query_vector = embedding_model.encode([f\"query: {query}\"])[0]\n",
    "    search_res = milvus_client.search(\n",
    "        collection_name=collection_name,\n",
    "        data=[query_vector],\n",
    "        limit=top_k,\n",
    "        search_params={\"metric_type\": \"IP\", \"params\": {}},\n",
    "        output_fields=[\"text\"]\n",
    "    )\n",
    "    return \"\\n\".join([hit[\"entity\"][\"text\"] for hit in search_res[0]])\n",
    "\n",
    "# 9. 调试型问答函数（打印中间过程）\n",
    "def answer_question_debug(question):\n",
    "    context = retrieve_context(question, top_k=10)\n",
    "    print(\"\\n🔍 [Context 检索结果前500字]:\\n\", context[:500], \"\\n...\")\n",
    "    prompt = build_prompt(context, question)\n",
    "    print(\"\\n📜 [Prompt 构造]:\\n\", prompt)\n",
    "    answer = generate_answer(prompt, tokenizer, model)\n",
    "    print(\"\\n🤖 [最终回答]:\\n\", answer)\n",
    "    return answer\n"
   ]
  },
  {
   "cell_type": "code",
   "execution_count": 17,
   "metadata": {},
   "outputs": [],
   "source": [
    "PROMPT = \"\"\"\n",
    "You are a helpful assistant with expert knowledge in sustainability. Your task is to answer the user's question using **only** the factual content provided in the context.\n",
    "\n",
    "Avoid repeating the title or general phrases — extract meaningful, structured information when available.\n",
    "\n",
    "<context>\n",
    "{context}\n",
    "</context>\n",
    "\n",
    "<question>\n",
    "{question}\n",
    "</question>\n",
    "\n",
    "Instructions:\n",
    "- Answer clearly and concisely.\n",
    "- Use **bullet points or numbered lists** when listing multiple facts or concepts.\n",
    "- Do **not** add any information not found in the context.\n",
    "- If the answer is **not** in the context, say: \"Not found in the provided context.\"\n",
    "\"\"\"\n",
    "\n",
    "\n",
    "def build_prompt(context, question):\n",
    "    return PROMPT.format(context=context, question=question)"
   ]
  },
  {
   "cell_type": "code",
   "execution_count": 20,
   "metadata": {},
   "outputs": [
    {
     "data": {
      "application/vnd.jupyter.widget-view+json": {
       "model_id": "984c52fa67774ece91b6b6f7be3471f1",
       "version_major": 2,
       "version_minor": 0
      },
      "text/plain": [
       "tokenizer_config.json:   0%|          | 0.00/2.54k [00:00<?, ?B/s]"
      ]
     },
     "metadata": {},
     "output_type": "display_data"
    },
    {
     "data": {
      "application/vnd.jupyter.widget-view+json": {
       "model_id": "8409dfd9a6444171b40ac0a7c73729f5",
       "version_major": 2,
       "version_minor": 0
      },
      "text/plain": [
       "spiece.model:   0%|          | 0.00/792k [00:00<?, ?B/s]"
      ]
     },
     "metadata": {},
     "output_type": "display_data"
    },
    {
     "data": {
      "application/vnd.jupyter.widget-view+json": {
       "model_id": "50caf984ac1d40a3a8b71897131c0f35",
       "version_major": 2,
       "version_minor": 0
      },
      "text/plain": [
       "tokenizer.json:   0%|          | 0.00/2.42M [00:00<?, ?B/s]"
      ]
     },
     "metadata": {},
     "output_type": "display_data"
    },
    {
     "data": {
      "application/vnd.jupyter.widget-view+json": {
       "model_id": "37cdfd8dcd0f4d21869235ecd7367e9e",
       "version_major": 2,
       "version_minor": 0
      },
      "text/plain": [
       "special_tokens_map.json:   0%|          | 0.00/2.20k [00:00<?, ?B/s]"
      ]
     },
     "metadata": {},
     "output_type": "display_data"
    },
    {
     "data": {
      "application/vnd.jupyter.widget-view+json": {
       "model_id": "169a9c57110745a5b19482a0d9f14400",
       "version_major": 2,
       "version_minor": 0
      },
      "text/plain": [
       "model.safetensors:  61%|######    | 1.90G/3.13G [00:00<?, ?B/s]"
      ]
     },
     "metadata": {},
     "output_type": "display_data"
    },
    {
     "data": {
      "application/vnd.jupyter.widget-view+json": {
       "model_id": "b1f6440f28f4496dbf3f4d1dc6c2f68d",
       "version_major": 2,
       "version_minor": 0
      },
      "text/plain": [
       "generation_config.json:   0%|          | 0.00/147 [00:00<?, ?B/s]"
      ]
     },
     "metadata": {},
     "output_type": "display_data"
    }
   ],
   "source": [
    "from transformers import AutoTokenizer, AutoModelForSeq2SeqLM\n",
    "\n",
    "model_name = \"google/flan-t5-large\"  # 可升级为 flan-t5-large\n",
    "tokenizer = AutoTokenizer.from_pretrained(model_name)\n",
    "model = AutoModelForSeq2SeqLM.from_pretrained(model_name)\n",
    "\n",
    "def generate_answer(prompt, tokenizer, model):\n",
    "    inputs = tokenizer(prompt, return_tensors=\"pt\", truncation=True)\n",
    "    outputs = model.generate(\n",
    "        **inputs,\n",
    "        max_length=512,\n",
    "        do_sample=False,\n",
    "        num_beams=4,\n",
    "        early_stopping=True\n",
    "    )\n",
    "    return tokenizer.decode(outputs[0], skip_special_tokens=True)\n"
   ]
  },
  {
   "cell_type": "code",
   "execution_count": 21,
   "metadata": {},
   "outputs": [
    {
     "name": "stdout",
     "output_type": "stream",
     "text": [
      "\n",
      "🔍 [Context 检索结果前500字]:\n",
      " The future of sustainability: Navigating trends and innovations for a sustainable tomorrow\n",
      "6\n",
      " \n",
      "Key findings & strategic \n",
      "recommendations \n",
      "The future of sustainability  report offers a detailed, forward-looking analysis \n",
      "that equips stakeholders with the knowledge and tools needed to navigate the \n",
      "complexities of the modern world. By proactively embracing these trends and \n",
      "recommendations, organisations can drive positive change and ensure long-\n",
      "term success in a rapidly evolving sustainability l \n",
      "...\n",
      "\n",
      "📜 [Prompt 构造]:\n",
      " \n",
      "You are a helpful assistant with expert knowledge in sustainability. Your task is to answer the user's question using **only** the factual content provided in the context.\n",
      "\n",
      "Avoid repeating the title or general phrases — extract meaningful, structured information when available.\n",
      "\n",
      "<context>\n",
      "The future of sustainability: Navigating trends and innovations for a sustainable tomorrow\n",
      "6\n",
      " \n",
      "Key findings & strategic \n",
      "recommendations \n",
      "The future of sustainability  report offers a detailed, forward-looking analysis \n",
      "that equips stakeholders with the knowledge and tools needed to navigate the \n",
      "complexities of the modern world. By proactively embracing these trends and \n",
      "recommendations, organisations can drive positive change and ensure long-\n",
      "term success in a rapidly evolving sustainability landscape.\n",
      "Note of caution: It is important to recognise that forward-looking predictions \n",
      "can be uncertain and are based on our current best understanding. As such, \n",
      "these predictions should be interpreted with caution and flexibility to adapt to \n",
      "new information and changing circumstances.\n",
      "Key findings Strategic recommendations\n",
      "Climate change adaptation and resilience  \n",
      "Organisations must prioritise adaptation and \n",
      "resilience strategies to mitigate risks associated \n",
      "with climate-related events.\n",
      "The future of sustainability: Navigating trends and innovations for a sustainable tomorrow\n",
      "5\n",
      " \n",
      "0 /  Executive summary\n",
      "The Future of sustainability report  provides a comprehensive analysis of the \n",
      "evolving landscape of sustainability. The study aims to forecast key trends and \n",
      "innovations that will shape the future, offering actionable insights and strategic \n",
      "recommendations for businesses, policymakers, and researchers.\n",
      "Methodology & approach\n",
      "Trend analysis:  The report identifies 87 sustainability trends across four di -\n",
      "mensions: societal (16), technological (26), environmental (21), and economic \n",
      "(24). These trends are examined over three timeframes: short- (now–2030), \n",
      "mid- (2030–2040), and long-term (2040 and beyond).\n",
      "Methodology: A multi-faceted approach was employed, including literature \n",
      "reviews, expert interviews, and the use of advanced Large Language Models \n",
      "(LLMs).\n",
      "Trend Radar:  The development of a trend radar maps out key trends, pro -\n",
      "The future of sustainability: Navigating trends and innovations for a sustainable tomorrow\n",
      "7\n",
      " \n",
      "1 /  Introduction\n",
      "Purpose and scope\n",
      "The primary purpose of this study is to empower decision-makers with action-\n",
      "able insights into the evolving sustainability landscape, equipping them to ad-\n",
      "dress critical challenges and seize emerging opportunities. By identifying and \n",
      "analysing key trends and innovations, this report aims to serve as a strategic \n",
      "tool for policymakers, business leaders, and researchers. Our objective is to \n",
      "inspire meaningful action, encourage informed decision-making, and provide \n",
      "clear pathways for integrating sustainability into strategies, operations, and \n",
      "policies.\n",
      "To achieve this, the study employs a comprehensive trend radar, which high -\n",
      "lights the most pressing and influential trends across four dimensions of sus -\n",
      "tainability: societal (including political, regulatory, and social aspects), tech -\n",
      "The future of sustainability: Navigating trends and innovations for a sustainable tomorrow\n",
      "9\n",
      " \n",
      "Structure of the report\n",
      "The report is designed to guide readers through the key forces shaping the \n",
      "future of sustainability, from broad global developments to specific trends and \n",
      "megatrends. It begins with the executive summary , which provides a concise \n",
      "and accessible overview of the report’s main findings. This section highlights \n",
      "the most critical trends and megatrends influencing sustainability, offering de-\n",
      "cision-makers, policymakers, and other stakeholders a quick snapshot of the \n",
      "report’s key insights and takeaways.\n",
      "Following this, the introduction  establishes the purpose and scope of the \n",
      "report, explaining why understanding sustainability trends is critical for busi -\n",
      "nesses, governments, and society. It also outlines the methodology used, em-\n",
      "phasising the analytical rigour applied to identify emerging trends and ensure \n",
      "credible, actionable insights.\n",
      "sustainability, and holding organisations and governments accountable, indi -\n",
      "viduals can be powerful agents of transformation.\n",
      "The existential threats posed by many sustainability trends underscore the ur-\n",
      "gency of adopting a sustainability-first mindset. This is not just about reducing \n",
      "risks but also about seizing opportunities to create a future that is resilient, \n",
      "equitable, and prosperous. By acting strategically and decisively, we can col -\n",
      "lectively rise to the challenges of this critical moment and shape a sustainable \n",
      "future for generations to come.\n",
      "Closing thoughts\n",
      "The “Future of sustainability” is not a distant concept, it is unfolding now. The \n",
      "choices made by decision-makers today will define the trajectory of business-\n",
      "es, societies, and the planet for decades to come. This report calls upon all \n",
      "stakeholders to embrace the complexity of the sustainability landscape and \n",
      "to act with clarity, purpose, and urgency. Only through a unified and strategic\n",
      "The future of sustainability: Navigating trends and innovations for a sustainable tomorrow\n",
      "66\n",
      " \n",
      "The “Future of sustainability ” report highlights a complex and dynamic land -\n",
      "scape where countless sustainability trends are unfolding simultaneously, \n",
      "interacting and amplifying one another across environmental, social, tech -\n",
      "nological, and economic dimensions. This interrelated web of trends creates \n",
      "an operating environment for decision-makers that is both challenging and \n",
      "transformative. The pace of change is rapid, the stakes are high, and the need \n",
      "for decisive, strategic action has never been greater.\n",
      "The challenge of a radically changing \n",
      "landscape\n",
      "In this radically changing environment, many businesses and public organisa-\n",
      "tions are still anchored in a business-as-usual approach, struggling to adapt to \n",
      "the evolving realities. This mindset is increasingly at odds with a world where \n",
      "sustainability is no longer optional but fundamental. Companies that fail to rec-\n",
      "The future of sustainability: Navigating trends and innovations for a sustainable tomorrow\n",
      "35\n",
      " \n",
      "5 /  The trend radar\n",
      "Overview\n",
      "The “Future of sustainability” trend radar is a forward-looking tool designed \n",
      "to identify and analyse emerging trends that will shape the sustainability land-\n",
      "scape in the coming decades.\n",
      " \n",
      "By mapping out key developments across short-term, mid-term, and long-term \n",
      "horizons, the trend radar provides a comprehensive overview of the economic, \n",
      "environmental, technological and social sustainability factors driving change. \n",
      "It highlights policy advancements, innovations in green technology, and shifts \n",
      "in consumer behaviour that are paving the way for a more sustainable future. \n",
      "The tool is essential for businesses, policymakers, and individuals seeking to \n",
      "understand and navigate the complex and evolving sustainability landscape, \n",
      "ensuring that they are well-prepared to meet the challenges and opportunities \n",
      "ahead.\n",
      "The future of sustainability: Navigating trends and innovations for a sustainable tomorrow\n",
      "10\n",
      " \n",
      "The conclusion  synthesizes the report’s findings, highlighting the intercon -\n",
      "nected nature of trends and megatrends while offering forward-looking per -\n",
      "spectives for businesses, policymakers, and organisations. It underscores the \n",
      "need for collaboration, innovation, and systemic change to address sustaina -\n",
      "bility challenges and seize new opportunities.\n",
      "Finally, the appendices  provide supporting information, including the method-\n",
      "ology used to identify emerging trends with the help of Large Language Models \n",
      "(LLMs). References and data sources are also included to enable further explo-\n",
      "ration of the topics discussed in the report.\n",
      "The future of sustainability: Navigating trends and innovations for a sustainable tomorrow\n",
      "14\n",
      " \n",
      "3 /  The perfect storm\n",
      "The ”Future of sustainability” study has identified 87 sustainability trends, all \n",
      "unfolding within a highly condensed timeframe, primarily from today to 2040. \n",
      "These trends span a wide range of environmental, technological, social, and \n",
      "economic dimensions, creating a complex web of challenges and opportuni -\n",
      "ties for businesses. The interconnectedness of these trends further amplifies \n",
      "their complexity, as developments in one area often trigger cascading effects \n",
      "across others. Many of these trends are happening in parallel, forcing compa-\n",
      "nies to make difficult decisions about which to prioritise as they navigate lim -\n",
      "ited resources and competing demands. This unprecedented convergence of \n",
      "sustainability developments is reshaping industries, markets, and stakeholder \n",
      "expectations, demanding immediate and strategic responses.\n",
      "The convergence of forces\n",
      "The future of sustainability: Navigating trends and innovations for a sustainable tomorrow\n",
      "8\n",
      " \n",
      "Methodology\n",
      "The methodology for the study of the future of sustainability involves a mul -\n",
      "ti-faceted approach  to ensure a comprehensive and well-rounded analysis. \n",
      "We began with a selective literature review , examining academic papers, in-\n",
      "dustry reports, policy documents, and other relevant publications. This review \n",
      "provided a broad understanding of current trends, challenges, and innovations \n",
      "in sustainability.\n",
      "Next, we leveraged the expertise of specialists from VTT , Finland’s largest \n",
      "research and technology organisation, dedicated to providing applied research \n",
      "and innovation services to domestic and international partners, and striving \n",
      "to create meaningful impact on the world’s biggest challenges. These experts \n",
      "contributed valuable insights from their research and development work in var-\n",
      "ious sustainability-related fields. Their input helped to deepen our understand-\n",
      "</context>\n",
      "\n",
      "<question>\n",
      "What is the purpose of the “Future of Sustainability” report?\n",
      "</question>\n",
      "\n",
      "Instructions:\n",
      "- Answer clearly and concisely.\n",
      "- Use **bullet points or numbered lists** when listing multiple facts or concepts.\n",
      "- Do **not** add any information not found in the context.\n",
      "- If the answer is **not** in the context, say: \"Not found in the provided context.\"\n",
      "\n",
      "\n",
      "🤖 [最终回答]:\n",
      " The Future of sustainability report provides a comprehensive analysis of the evolving landscape of sustainability. The study aims to forecast key trends and innovations that will shape the future, offering actionable insights and strategic recommendations for businesses, policymakers, and researchers\n"
     ]
    },
    {
     "data": {
      "text/plain": [
       "'The Future of sustainability report provides a comprehensive analysis of the evolving landscape of sustainability. The study aims to forecast key trends and innovations that will shape the future, offering actionable insights and strategic recommendations for businesses, policymakers, and researchers'"
      ]
     },
     "execution_count": 21,
     "metadata": {},
     "output_type": "execute_result"
    }
   ],
   "source": [
    "answer_question_debug(\"What is the purpose of the “Future of Sustainability” report?\")\n"
   ]
  },
  {
   "cell_type": "code",
   "execution_count": 12,
   "metadata": {},
   "outputs": [
    {
     "name": "stdout",
     "output_type": "stream",
     "text": [
      "\n",
      "🔍 [Context 检索结果前500字]:\n",
      " The future of sustainability: Navigating trends and innovations for a sustainable tomorrow\n",
      "5\n",
      " \n",
      "0 /  Executive summary\n",
      "The Future of sustainability report  provides a comprehensive analysis of the \n",
      "evolving landscape of sustainability. The study aims to forecast key trends and \n",
      "innovations that will shape the future, offering actionable insights and strategic \n",
      "recommendations for businesses, policymakers, and researchers.\n",
      "Methodology & approach\n",
      "Trend analysis:  The report identifies 87 sustainabi \n",
      "...\n",
      "\n",
      "📜 [Prompt 构造]:\n",
      " \n",
      "Use the information enclosed in <context> tags to answer the user's question.\n",
      "Only use factual data found in the context — do not make up anything.\n",
      "\n",
      "<context>\n",
      "The future of sustainability: Navigating trends and innovations for a sustainable tomorrow\n",
      "5\n",
      " \n",
      "0 /  Executive summary\n",
      "The Future of sustainability report  provides a comprehensive analysis of the \n",
      "evolving landscape of sustainability. The study aims to forecast key trends and \n",
      "innovations that will shape the future, offering actionable insights and strategic \n",
      "recommendations for businesses, policymakers, and researchers.\n",
      "Methodology & approach\n",
      "Trend analysis:  The report identifies 87 sustainability trends across four di -\n",
      "mensions: societal (16), technological (26), environmental (21), and economic \n",
      "(24). These trends are examined over three timeframes: short- (now–2030), \n",
      "mid- (2030–2040), and long-term (2040 and beyond).\n",
      "Methodology: A multi-faceted approach was employed, including literature \n",
      "reviews, expert interviews, and the use of advanced Large Language Models \n",
      "(LLMs).\n",
      "Trend Radar:  The development of a trend radar maps out key trends, pro -\n",
      "reduction strategies, and policies supporting net-zero goals. Next, the rise of \n",
      "circular economies  highlights strategies to optimise resource usage, close \n",
      "resource loops, and extend product lifecycles. Sustainable urbanisation and \n",
      "resilient infrastructure  examines the development of climate-resilient cities, \n",
      "smart infrastructure, and sustainable urban planning to meet growing popu -\n",
      "lation needs. The emergence of a sustainability-centric economic model  \n",
      "explores the shift toward economic systems that prioritise long-term environ -\n",
      "mental and societal value. Lastly, sustainable food systems and consump -\n",
      "tion  focuses on transforming food production and consumption to ensure \n",
      "equity, nutrition, and resource efficiency in a rapidly changing world.\n",
      "The trend radar  forms the analytical core of the report and the basis for \n",
      "the megatrends, diving into emerging and evolving trends across four key \n",
      "dimensions: economic, environmental, technological, and societal. It begins\n",
      "the megatrends, diving into emerging and evolving trends across four key \n",
      "dimensions: economic, environmental, technological, and societal. It begins \n",
      "with an overview , explaining the trend radar concept and the process used \n",
      "to identify these trends. The report then explores economic trends in sus -\n",
      "tainability , including the role of green financing, SG-driven investments, and \n",
      "the shift towards circular economic models. Environmental trends focuses \n",
      "on climate resilience, biodiversity preservation, and resource efficiency, high -\n",
      "lighting efforts to mitigate pollution and promote nature-positive strategies. In \n",
      "parallel, technological trends  examine the enabling role of innovation, from \n",
      "renewable energy and digital transformation to AI and sustainable material \n",
      "development. Finally, societal trends  address shifts in behaviours, values, \n",
      "and consumption patterns, emphasising the role of equity, education, and \n",
      "generational change in advancing sustainability.\n",
      "that our analysis is both comprehensive and data driven.1\n",
      "We then integrated the findings from the literature review, expert inputs, and \n",
      "LLM analysis to identify key trends and innovations in sustainability. This in -\n",
      "volved both qualitative and quantitative analysis  to ensure a robust and evi-\n",
      "dence-based understanding of the future sustainability landscape.\n",
      "The development of the trend radar  is a crucial part of our methodology. The \n",
      "tool maps out the identified trends across four dimensions: societal  (including \n",
      "political, regulatory, and social aspects), technological , environmental , and \n",
      "economic , and three timeframes: short-term (now–2030) , mid-term (2030–\n",
      "2040), and long-term (2040–2050) . The trend radar serves as a visual and \n",
      "analytical guide for stakeholders to navigate the future of sustainability.\n",
      "Finally, we validated our findings and the trend radar through peer reviews. \n",
      "This step ensured the accuracy, relevance, and practical applicability of our\n",
      "The future of sustainability: Navigating trends and innovations for a sustainable tomorrow\n",
      "7\n",
      " \n",
      "1 /  Introduction\n",
      "Purpose and scope\n",
      "The primary purpose of this study is to empower decision-makers with action-\n",
      "able insights into the evolving sustainability landscape, equipping them to ad-\n",
      "dress critical challenges and seize emerging opportunities. By identifying and \n",
      "analysing key trends and innovations, this report aims to serve as a strategic \n",
      "tool for policymakers, business leaders, and researchers. Our objective is to \n",
      "inspire meaningful action, encourage informed decision-making, and provide \n",
      "clear pathways for integrating sustainability into strategies, operations, and \n",
      "policies.\n",
      "To achieve this, the study employs a comprehensive trend radar, which high -\n",
      "lights the most pressing and influential trends across four dimensions of sus -\n",
      "tainability: societal (including political, regulatory, and social aspects), tech -\n",
      "The future of sustainability: Navigating trends and innovations for a sustainable tomorrow\n",
      "6\n",
      " \n",
      "Key findings & strategic \n",
      "recommendations \n",
      "The future of sustainability  report offers a detailed, forward-looking analysis \n",
      "that equips stakeholders with the knowledge and tools needed to navigate the \n",
      "complexities of the modern world. By proactively embracing these trends and \n",
      "recommendations, organisations can drive positive change and ensure long-\n",
      "term success in a rapidly evolving sustainability landscape.\n",
      "Note of caution: It is important to recognise that forward-looking predictions \n",
      "can be uncertain and are based on our current best understanding. As such, \n",
      "these predictions should be interpreted with caution and flexibility to adapt to \n",
      "new information and changing circumstances.\n",
      "Key findings Strategic recommendations\n",
      "Climate change adaptation and resilience  \n",
      "Organisations must prioritise adaptation and \n",
      "resilience strategies to mitigate risks associated \n",
      "with climate-related events.\n",
      "The future of sustainability: Navigating trends and innovations for a sustainable tomorrow\n",
      "9\n",
      " \n",
      "Structure of the report\n",
      "The report is designed to guide readers through the key forces shaping the \n",
      "future of sustainability, from broad global developments to specific trends and \n",
      "megatrends. It begins with the executive summary , which provides a concise \n",
      "and accessible overview of the report’s main findings. This section highlights \n",
      "the most critical trends and megatrends influencing sustainability, offering de-\n",
      "cision-makers, policymakers, and other stakeholders a quick snapshot of the \n",
      "report’s key insights and takeaways.\n",
      "Following this, the introduction  establishes the purpose and scope of the \n",
      "report, explaining why understanding sustainability trends is critical for busi -\n",
      "nesses, governments, and society. It also outlines the methodology used, em-\n",
      "phasising the analytical rigour applied to identify emerging trends and ensure \n",
      "credible, actionable insights.\n",
      "their intended audience. This targeted approach ensures the content remains \n",
      "focused, relevant, and impactful.\n",
      "In response to the complexity and urgency of sustainability challenges, this \n",
      "study does not aim to provide an exhaustive catalogue of trends. Instead, it \n",
      "prioritises key areas with the greatest potential for driving transformation and \n",
      "creating value. For instance, technological trends emphasise pivotal innova -\n",
      "tions like artificial intelligence and clean technologies, while economic trends \n",
      "focus on models that integrate long-term value creation with environmen -\n",
      "tal stewardship. By honing in on such high-impact areas, the report offers a \n",
      "sharper, more actionable perspective.\n",
      "To maximise clarity and usability, the report is structured to begin with the \n",
      "megatrends driving sustainability action. These overarching trends provide a \n",
      "contextual framework, underscoring the urgency of change and highlighting\n",
      "The future of sustainability: Navigating trends and innovations for a sustainable tomorrow\n",
      "37\n",
      " \n",
      "ECONOMIC TRENDS IN SUSTAINABILITY\n",
      "Short-term (now-2030) – 1/2\n",
      "Trend Description\n",
      "1.1.1\n",
      "Corporate \n",
      "sustainability73\n",
      "Corporate sustainability is becoming a core business imperative, with 90% of S&P 500 companies \n",
      "publishing ESG reports in 2022, compared to 20% in 2011.74 Investor pressure is a key driver: \n",
      "asset managers overseeing $120 trillion under the PRI framework demand greater transparency.75 \n",
      "Consumer behaviour also plays a role, as 64% of consumers prefer brands with strong ESG \n",
      "commitments, and 80% express loyalty to sustainable companies.76 Total assets in sustainable \n",
      "funds landed at $286 billion in 2022.77 Furthermore, 88% of surveyed companies in the Nordics \n",
      "integrate circularity/sustainability into their strategy.78\n",
      "1.1.2  \n",
      "Energy efficiency79\n",
      "Energy efficiency is central to mitigating climate change and addressing rising energy costs.\n",
      "The future of sustainability: Navigating trends and innovations for a sustainable tomorrow\n",
      "10\n",
      " \n",
      "The conclusion  synthesizes the report’s findings, highlighting the intercon -\n",
      "nected nature of trends and megatrends while offering forward-looking per -\n",
      "spectives for businesses, policymakers, and organisations. It underscores the \n",
      "need for collaboration, innovation, and systemic change to address sustaina -\n",
      "bility challenges and seize new opportunities.\n",
      "Finally, the appendices  provide supporting information, including the method-\n",
      "ology used to identify emerging trends with the help of Large Language Models \n",
      "(LLMs). References and data sources are also included to enable further explo-\n",
      "ration of the topics discussed in the report.\n",
      "</context>\n",
      "\n",
      "<question>\n",
      "How many sustainability trends are identified in the report?\n",
      "</question>\n",
      "\n",
      "Answer with a clear list of bullet points if appropriate. Respond \"Not found in the provided context\" if the context doesn't contain the answer.\n",
      "\n",
      "\n",
      "🤖 [最终回答]:\n",
      " Sustainable urbanisation and resilient infrastructure examines the development of climate-resilient cities, smart infrastructure, and sustainable urban planning to meet growing popu - lation needs\n"
     ]
    },
    {
     "data": {
      "text/plain": [
       "'Sustainable urbanisation and resilient infrastructure examines the development of climate-resilient cities, smart infrastructure, and sustainable urban planning to meet growing popu - lation needs'"
      ]
     },
     "execution_count": 12,
     "metadata": {},
     "output_type": "execute_result"
    }
   ],
   "source": [
    "answer_question_debug(\"How many sustainability trends are identified in the report?\")\n"
   ]
  },
  {
   "cell_type": "code",
   "execution_count": null,
   "metadata": {},
   "outputs": [],
   "source": [
    "answer_question_debug(\"What are the four key dimensions used in the trend radar?\")\n"
   ]
  },
  {
   "cell_type": "code",
   "execution_count": null,
   "metadata": {},
   "outputs": [],
   "source": [
    "answer_question_debug(\"Name the five sustainability megatrends mentioned in the report.\")\n"
   ]
  },
  {
   "cell_type": "code",
   "execution_count": null,
   "metadata": {},
   "outputs": [],
   "source": [
    "answer_question_debug(\"What role does green finance play in sustainability?\")\n"
   ]
  }
 ],
 "metadata": {
  "kernelspec": {
   "display_name": "base",
   "language": "python",
   "name": "python3"
  },
  "language_info": {
   "codemirror_mode": {
    "name": "ipython",
    "version": 3
   },
   "file_extension": ".py",
   "mimetype": "text/x-python",
   "name": "python",
   "nbconvert_exporter": "python",
   "pygments_lexer": "ipython3",
   "version": "3.11.5"
  }
 },
 "nbformat": 4,
 "nbformat_minor": 2
}
